{
 "cells": [
  {
   "cell_type": "markdown",
   "metadata": {},
   "source": [
    "__Add column with genre information to original exported CSV.__\n",
    "\n",
    "@Andreas Lüschow\n",
    "\n",
    "12.11.2020"
   ]
  },
  {
   "cell_type": "markdown",
   "metadata": {},
   "source": [
    "### Imports"
   ]
  },
  {
   "cell_type": "code",
   "execution_count": null,
   "metadata": {},
   "outputs": [],
   "source": [
    "from IPython.display import display\n",
    "\n",
    "import json\n",
    "import math\n",
    "import matplotlib.pyplot as plt\n",
    "%matplotlib inline\n",
    "import numpy as np\n",
    "import pandas as pd\n",
    "\n",
    "pd.options.display.max_columns = None"
   ]
  },
  {
   "cell_type": "markdown",
   "metadata": {},
   "source": [
    "### Constants"
   ]
  },
  {
   "cell_type": "code",
   "execution_count": null,
   "metadata": {},
   "outputs": [],
   "source": [
    "# INPUT_CSV = \"./data/genre_concat_final/genres_concat.csv\"\n",
    "INPUT_CSV = \"./data/input/all_genre_data.csv\"\n",
    "OUTPUT_CSV = \"./data/all_data.csv\"\n",
    "GENRE_FILE = \"./data/input/genres.txt\"\n",
    "FIELD_FILE = \"./data/input/fields.txt\"\n",
    "GENRE_MAPPING_FILE = \"./data/input/genre_mapping.txt\""
   ]
  },
  {
   "cell_type": "markdown",
   "metadata": {},
   "source": [
    "### Load data"
   ]
  },
  {
   "cell_type": "code",
   "execution_count": null,
   "metadata": {},
   "outputs": [],
   "source": [
    "src_df = pd.read_csv(INPUT_CSV, sep=\"\\t\", index_col='Unnamed: 0', low_memory=False)\n",
    "src_df.shape"
   ]
  },
  {
   "cell_type": "code",
   "execution_count": null,
   "metadata": {},
   "outputs": [],
   "source": [
    "df = src_df.copy()"
   ]
  },
  {
   "cell_type": "code",
   "execution_count": null,
   "metadata": {},
   "outputs": [],
   "source": [
    "genres = [line.strip() for line in open(GENRE_FILE)]\n",
    "assert len(genres) == 1319\n",
    "print(genres[:20])"
   ]
  },
  {
   "cell_type": "code",
   "execution_count": null,
   "metadata": {},
   "outputs": [],
   "source": [
    "fields = [line.strip() for line in open(FIELD_FILE)]\n",
    "print(fields)"
   ]
  },
  {
   "cell_type": "code",
   "execution_count": null,
   "metadata": {},
   "outputs": [],
   "source": [
    "with open(GENRE_MAPPING_FILE, \"r\", encoding=\"utf-8\") as ifile:\n",
    "    data = ifile.read()\n",
    "    genre_mapping_dict = json.loads(data)"
   ]
  },
  {
   "cell_type": "markdown",
   "metadata": {},
   "source": [
    "### Get genre for each data row"
   ]
  },
  {
   "cell_type": "code",
   "execution_count": null,
   "metadata": {},
   "outputs": [],
   "source": [
    "all_keywords = []  # collects genre keywords for all Pica+ fields\n",
    "nr_genres_in_fields = []  # collects number of genres for each field (because one row can have multiple genres assigned)"
   ]
  },
  {
   "cell_type": "code",
   "execution_count": null,
   "metadata": {},
   "outputs": [],
   "source": [
    "for f in fields:\n",
    "    keywords = []  # collects keywords for single Pica+ field\n",
    "    try:\n",
    "        nr_genres_in_rows = []\n",
    "        for phrase in df[f].str.split(\";\"):  # cell may contain multiple phrases separated by \";\"\n",
    "            nr_genres_in_this_row = 0\n",
    "            found = False\n",
    "            clean_phrase = str(phrase).strip()\n",
    "            if isinstance(phrase, list):\n",
    "                for word in phrase:  # check if word is in genre list\n",
    "                    clean_word = str(word).strip()\n",
    "                    if clean_word in genres and not found:\n",
    "                        keywords.append(clean_word)\n",
    "                        found = True\n",
    "                        nr_genres_in_this_row += 1\n",
    "                        # break  # consider only first genre (we do not use multi-class classification)\n",
    "                    elif clean_word in genres and found:\n",
    "                        nr_genres_in_this_row += 1\n",
    "                if not found:\n",
    "                    keywords.append(None)  # no genre in this field available                    \n",
    "            elif clean_phrase == \"nan\":\n",
    "                keywords.append(None)\n",
    "            elif clean_phrase in genres:\n",
    "                keywords.append(clean_phrase)  # seems to be a single word\n",
    "                nr_genres_in_this_row += 1\n",
    "            nr_genres_in_rows.append(nr_genres_in_this_row)  # nr of genres in this row\n",
    "        nr_genres_in_fields.append(nr_genres_in_rows)  # nr of genres in this field\n",
    "        all_keywords.append(keywords)  # append keywords for single fields to collection list\n",
    "    except:\n",
    "        print(f\"Feld {f} nicht vorhanden\")  # useful for debugging"
   ]
  },
  {
   "cell_type": "code",
   "execution_count": null,
   "metadata": {},
   "outputs": [],
   "source": [
    "# count rows per field where more than 1 genre was assigned\n",
    "all_multiple_count = []\n",
    "for field in nr_genres_in_fields:\n",
    "    multiple_field_count = 0\n",
    "    for row in field:\n",
    "        if row > 1:\n",
    "            multiple_field_count += 1\n",
    "    all_multiple_count.append(multiple_field_count)\n",
    "all_multiple_count"
   ]
  },
  {
   "cell_type": "code",
   "execution_count": null,
   "metadata": {},
   "outputs": [],
   "source": [
    "# count rows that have more than 1 genre assigned\n",
    "not_unique_count = 0\n",
    "row_count = 0\n",
    "genres_per_row = zip(*nr_genres_in_fields)\n",
    "for row in list(genres_per_row):\n",
    "    row_count += 1\n",
    "    if sum(row) > 1:\n",
    "        not_unique_count += 1\n",
    "print(f\"Not unique: {not_unique_count} out of {row_count} rows total.\\n\" + \n",
    "      f\"Thus, {round((1-(not_unique_count/row_count))*100,2)} % are unique.\")   "
   ]
  },
  {
   "cell_type": "code",
   "execution_count": null,
   "metadata": {},
   "outputs": [],
   "source": [
    "# create single genre for each row, based on genres in single fields\n",
    "keyw = [list(a) for a in zip(*all_keywords)]\n",
    "keyw_list = []  # collect one genre keyword for each data row\n",
    "\n",
    "for group in keyw:\n",
    "    found = False\n",
    "    for elem in group:\n",
    "        if type(elem) == str:\n",
    "            keyw_list.append(str(elem))\n",
    "            found = True\n",
    "            break  # consider only one genre per data row\n",
    "    if not found:\n",
    "        keyw_list.append(None)  # used for debugging if no genre found (must be an error!)\n",
    "        \n",
    "# look at single entries (used for debugging if no genre found for a data row)\n",
    "for index, k in enumerate(keyw_list):\n",
    "    if not k:\n",
    "        print(keyw_list[index-3])\n",
    "        print(keyw_list[index-2])\n",
    "        print(keyw_list[index-1])\n",
    "        print(index)\n",
    "        print(keyw_list[index+1])\n",
    "        print(keyw_list[index+2])\n",
    "        print(keyw_list[index+3])"
   ]
  },
  {
   "cell_type": "code",
   "execution_count": null,
   "metadata": {},
   "outputs": [],
   "source": [
    "# create 'genre' column in DataFrame\n",
    "df[\"genre\"] = keyw_list\n",
    "df[\"genre\"].isna().sum()  # check if every data row has genre"
   ]
  },
  {
   "cell_type": "code",
   "execution_count": null,
   "metadata": {},
   "outputs": [],
   "source": [
    "# there is one single row (!) in the source data where the genre is in the data\n",
    "# but somehow not recognized ... add this manually (PPN: 1014723302)\n",
    "df.at['1014723302', 'genre'] = \"Brief\""
   ]
  },
  {
   "cell_type": "code",
   "execution_count": null,
   "metadata": {},
   "outputs": [],
   "source": [
    "# check for duplicate or wrong values in genre mapping dict\n",
    "main_genres_list = []\n",
    "main_genres_dict = {}\n",
    "for k, v in genre_mapping_dict.items():\n",
    "    if len(v) > 0:\n",
    "        main_genres_list.append(v)\n",
    "        if v in main_genres_dict.keys():\n",
    "            main_genres_dict[v] += 1\n",
    "        else:\n",
    "            main_genres_dict[v] = 1\n",
    "        \n",
    "# sorted(main_genres_dict.items(), key=lambda x: x[1], reverse=True)\n",
    "print(set(main_genres_list), len(main_genres_dict))"
   ]
  },
  {
   "cell_type": "code",
   "execution_count": null,
   "metadata": {},
   "outputs": [],
   "source": [
    "# create additional column with main genres (i.e., \"Historischer Roman\" --> \"Roman\")\n",
    "mapped_keyw_list = [genre_mapping_dict[i] if i in genre_mapping_dict.keys() and len(genre_mapping_dict[i]) > 0 else i for i in keyw_list]\n",
    "df[\"genre_main\"] = mapped_keyw_list\n",
    "df.at['1014723302', 'genre_main'] = \"Brief\"\n",
    "df[\"genre_main\"].isna().sum()  # check if every data row has a main genre"
   ]
  },
  {
   "cell_type": "code",
   "execution_count": null,
   "metadata": {},
   "outputs": [],
   "source": [
    "# show empty cell values (just for information)\n",
    "df.isna().sum().sort_values()"
   ]
  },
  {
   "cell_type": "code",
   "execution_count": null,
   "metadata": {},
   "outputs": [],
   "source": [
    "# check if genre column an df have the same row count\n",
    "assert len([x for x in df[\"genre\"] if x]) == df.shape[0]\n",
    "assert len([x for x in df[\"genre_main\"] if x]) == df.shape[0]"
   ]
  },
  {
   "cell_type": "markdown",
   "metadata": {},
   "source": [
    "### Save DataFrame that now has a genre column"
   ]
  },
  {
   "cell_type": "code",
   "execution_count": null,
   "metadata": {},
   "outputs": [],
   "source": [
    "df.to_csv(OUTPUT_CSV, sep=\"\\t\")"
   ]
  }
 ],
 "metadata": {
  "kernelspec": {
   "display_name": "Python 3",
   "language": "python",
   "name": "python3"
  },
  "language_info": {
   "codemirror_mode": {
    "name": "ipython",
    "version": 3
   },
   "file_extension": ".py",
   "mimetype": "text/x-python",
   "name": "python",
   "nbconvert_exporter": "python",
   "pygments_lexer": "ipython3",
   "version": "3.7.6"
  }
 },
 "nbformat": 4,
 "nbformat_minor": 4
}
