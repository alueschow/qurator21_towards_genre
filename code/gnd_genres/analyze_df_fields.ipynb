{
 "cells": [
  {
   "cell_type": "markdown",
   "metadata": {},
   "source": [
    "__Scripts for analysing genre fields in our dataset.__\n",
    "\n",
    "@Andreas Lüschow\n",
    "\n",
    "12.11.2020"
   ]
  },
  {
   "cell_type": "markdown",
   "metadata": {},
   "source": [
    "## Imports"
   ]
  },
  {
   "cell_type": "code",
   "execution_count": null,
   "metadata": {},
   "outputs": [],
   "source": [
    "from IPython.display import display\n",
    "\n",
    "import matplotlib.pyplot as plt\n",
    "%matplotlib inline\n",
    "import numpy as np\n",
    "import pandas as pd\n",
    "import seaborn as sns\n",
    "\n",
    "pd.options.display.max_columns = None"
   ]
  },
  {
   "cell_type": "markdown",
   "metadata": {},
   "source": [
    "## Constants"
   ]
  },
  {
   "cell_type": "code",
   "execution_count": null,
   "metadata": {},
   "outputs": [],
   "source": [
    "# Input\n",
    "INPUT_CSV = \"./data/input/all_genre_data.csv\"\n",
    "GENRE_FILE = \"./data/input/genres.txt\"\n",
    "FIELD_FILE = \"./data/input/fields.txt\"\n",
    "\n",
    "# Output\n",
    "INFO_DF_CSV = \"./data/output/field_info_df.csv\"\n",
    "GENRE_INFO_DF_CSV = \"./data/output/genre_info_df.csv\""
   ]
  },
  {
   "cell_type": "markdown",
   "metadata": {},
   "source": [
    "## Load Data\n",
    "* source DataFrame\n",
    "* list of genres\n",
    "* list of fields with genre information"
   ]
  },
  {
   "cell_type": "code",
   "execution_count": null,
   "metadata": {},
   "outputs": [],
   "source": [
    "src_df = pd.read_csv(INPUT_CSV, sep=\"\\t\", index_col='Unnamed: 0', low_memory=False)\n",
    "src_df.shape"
   ]
  },
  {
   "cell_type": "code",
   "execution_count": null,
   "metadata": {},
   "outputs": [],
   "source": [
    "src_df[:5]"
   ]
  },
  {
   "cell_type": "code",
   "execution_count": null,
   "metadata": {},
   "outputs": [],
   "source": [
    "genres = [line.strip() for line in open(GENRE_FILE)]\n",
    "assert len(genres) == 1319\n",
    "print(genres[:20])"
   ]
  },
  {
   "cell_type": "code",
   "execution_count": null,
   "metadata": {},
   "outputs": [],
   "source": [
    "fields = [line.strip() for line in open(FIELD_FILE)]\n",
    "print(fields)"
   ]
  },
  {
   "cell_type": "markdown",
   "metadata": {},
   "source": [
    "## Analyse single fields in source data"
   ]
  },
  {
   "cell_type": "markdown",
   "metadata": {},
   "source": [
    "### Create dictionary with field attributes\n",
    "Each row/key in the dictionary is the name of a genre-relevant field/subfield in the data.\n",
    "* __notna_sum__: absolute number of records that have a value in field X (not necessarily a genre!)\n",
    "* __notna_rel__: relative of records that have a value in field X (\"1.0\" would mean: all records have this field)\n",
    "* __genres__: set of genres that can be found in this field\n",
    "* __genre_count__: number of genres in this field\n",
    "* for each field, each genre has a value with its absolute occurrence in the data (__[genre_name]__)\n",
    "* for each genre there is also a column for its relative appearance in the field (__[genre name] + _rel__)"
   ]
  },
  {
   "cell_type": "code",
   "execution_count": null,
   "metadata": {},
   "outputs": [],
   "source": [
    "info_dict = {}"
   ]
  },
  {
   "cell_type": "code",
   "execution_count": null,
   "metadata": {},
   "outputs": [],
   "source": [
    "for f in fields:\n",
    "    info_dict[f] = {}\n",
    "    info_dict[f][\"notna_sum\"] = src_df[f].notna().sum()\n",
    "    info_dict[f][\"notna_rel\"] = (src_df[f].notna().sum()/len(src_df.index)).round(4)\n",
    "    \n",
    "    # add genres\n",
    "    field_genres = []\n",
    "    count = 0\n",
    "    for elem in src_df[f].str.split(\";\"):\n",
    "        if isinstance(elem, list):\n",
    "            for value in elem:\n",
    "                genre = value.strip()\n",
    "                if genre in genres:\n",
    "                    if genre in info_dict[f].keys():\n",
    "                        info_dict[f][genre] += 1\n",
    "                    else:\n",
    "                        info_dict[f][genre] = 1\n",
    "                    field_genres.append(genre)\n",
    "        elif str(elem).strip() in genres:\n",
    "            genre = str(elem).strip()\n",
    "            if genre in info_dict.keys():\n",
    "                info_dict[f][genre] += 1\n",
    "            else:\n",
    "                info_dict[f][genre] = 1\n",
    "            field_genres.append(genre)\n",
    "    info_dict[f][\"genres\"] = set(field_genres)\n",
    "    info_dict[f][\"genre_count\"] = len(info_df[\"genres\"].loc[f])\n",
    "    \n",
    "    for genre in genres:\n",
    "        if genre in info_dict[f].keys():\n",
    "            info_dict[f][genre + \"_rel\"] = (info_dict[f][genre]/info_dict[f][\"notna_sum\"]).round(6)"
   ]
  },
  {
   "cell_type": "markdown",
   "metadata": {},
   "source": [
    "### Convert to DataFrame"
   ]
  },
  {
   "cell_type": "code",
   "execution_count": null,
   "metadata": {},
   "outputs": [],
   "source": [
    "info_df = pd.DataFrame.from_dict(info_dict, orient=\"index\")\n",
    "info_df.to_csv(INFO_DF_CSV, sep=\"\\t\")\n",
    "info_df\n",
    "info_df.shape"
   ]
  },
  {
   "cell_type": "markdown",
   "metadata": {},
   "source": [
    "### Create dictionary based on genres"
   ]
  },
  {
   "cell_type": "code",
   "execution_count": null,
   "metadata": {},
   "outputs": [],
   "source": [
    "# create dataframe (not_nan_df) that contains only not-nan-columns for each field\n",
    "_tmp_df = info_df.copy()\n",
    "not_nan_df = (_tmp_df.stack()\n",
    "   .reset_index(level=1)\n",
    "   .groupby(level=0, sort=False)\n",
    "   ['level_1'].apply(list)\n",
    ")"
   ]
  },
  {
   "cell_type": "markdown",
   "metadata": {},
   "source": [
    "The genre info dictionary contains the following information:\n",
    "* __max_occurrence__: maximum occurrence of this genre in a field (_absolute_ number!)\n",
    "* __max_field__: field in which this genre appears mostly (based on _absolute_ (!) numbers)\n",
    "* __in_fields__: list of fields where this genre appears\n",
    "* __not_in_fields__: list of fields where this genre does not appear\n",
    "* __rel_X__: relative occurrence in field X"
   ]
  },
  {
   "cell_type": "code",
   "execution_count": null,
   "metadata": {},
   "outputs": [],
   "source": [
    "genre_info_dict = {}"
   ]
  },
  {
   "cell_type": "code",
   "execution_count": null,
   "metadata": {},
   "outputs": [],
   "source": [
    "for g in genres:\n",
    "    in_fields = []\n",
    "    not_fields = []\n",
    "    if g in info_df.keys():\n",
    "        max_value = info_df[g].max()\n",
    "        max_field = info_df[info_df[g] == info_df[g].max()].index[0]\n",
    "        for f in fields:\n",
    "            if g in not_nan_df[f]:\n",
    "                in_fields.append(f)\n",
    "            else:\n",
    "                not_fields.append(f)\n",
    "    \n",
    "        genre_info_dict[g] = {}\n",
    "        genre_info_dict[g][\"max_occurrence\"] = max_value\n",
    "        genre_info_dict[g][\"max_field\"] = max_field\n",
    "        genre_info_dict[g][\"in_fields\"] = in_fields\n",
    "        genre_info_dict[g][\"not_in_fields\"] = not_fields\n",
    "        for f in fields:\n",
    "            genre_info_dict[g][\"rel_\" + f] = info_df[g + \"_rel\"].loc[f]"
   ]
  },
  {
   "cell_type": "markdown",
   "metadata": {},
   "source": [
    "### Convert to DataFrame"
   ]
  },
  {
   "cell_type": "code",
   "execution_count": null,
   "metadata": {},
   "outputs": [],
   "source": [
    "genre_info_df = pd.DataFrame.from_dict(genre_info_dict, orient=\"index\")\n",
    "genre_info_df.to_csv(GENRE_INFO_DF_CSV, sep=\"\\t\")\n",
    "genre_info_df\n",
    "genre_info_df.shape"
   ]
  },
  {
   "cell_type": "code",
   "execution_count": null,
   "metadata": {},
   "outputs": [],
   "source": [
    "# look into example field\n",
    "genre_info_df[genre_info_df[\"max_field\"] == \"013D a\"]"
   ]
  },
  {
   "cell_type": "markdown",
   "metadata": {},
   "source": [
    "Based on the data of the genre dictionary we can calculate for each field which genre appears the most (__max_field_rel_genre__) and to which relative extent (__max_field_rel__) and add this information to the DataFrame that is based on fields (see above)."
   ]
  },
  {
   "cell_type": "code",
   "execution_count": null,
   "metadata": {},
   "outputs": [],
   "source": [
    "max_field_rel_list = []\n",
    "max_field_rel_genre_list = []\n",
    "\n",
    "for f in fields:\n",
    "    max_field_rel = genre_info_df[\"rel_\" + f].max()\n",
    "    max_field_rel_genre = genre_info_df[genre_info_df[\"rel_\" + f] == genre_info_df[\"rel_\" + f].max()].index[0]\n",
    "    max_field_rel_list.append(max_field_rel)\n",
    "    max_field_rel_genre_list.append(max_field_rel_genre)\n",
    "    \n",
    "info_df[\"max_field_rel\"] = max_field_rel_list\n",
    "info_df[\"max_field_rel_genre\"] = max_field_rel_genre_list"
   ]
  },
  {
   "cell_type": "code",
   "execution_count": null,
   "metadata": {},
   "outputs": [],
   "source": [
    "info_df[[\"max_field_rel\", \"max_field_rel_genre\"]]"
   ]
  },
  {
   "cell_type": "code",
   "execution_count": null,
   "metadata": {},
   "outputs": [],
   "source": [
    "info_df.to_csv(INFO_DF_CSV, sep=\"\\t\")"
   ]
  }
 ],
 "metadata": {
  "kernelspec": {
   "display_name": "Python 3",
   "language": "python",
   "name": "python3"
  },
  "language_info": {
   "codemirror_mode": {
    "name": "ipython",
    "version": 3
   },
   "file_extension": ".py",
   "mimetype": "text/x-python",
   "name": "python",
   "nbconvert_exporter": "python",
   "pygments_lexer": "ipython3",
   "version": "3.7.6"
  }
 },
 "nbformat": 4,
 "nbformat_minor": 4
}

